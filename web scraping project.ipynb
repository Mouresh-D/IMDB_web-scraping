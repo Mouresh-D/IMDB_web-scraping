{
 "cells": [
  {
   "cell_type": "code",
   "execution_count": 1,
   "id": "3d71ddc8",
   "metadata": {},
   "outputs": [],
   "source": [
    "from bs4 import BeautifulSoup as bs\n",
    "import pandas as pd\n",
    "import requests"
   ]
  },
  {
   "cell_type": "code",
   "execution_count": 2,
   "id": "7db04e16",
   "metadata": {},
   "outputs": [],
   "source": [
    "r=requests.get('https://www.imdb.com/search/title/?groups=top_250&sort=user_rating')"
   ]
  },
  {
   "cell_type": "code",
   "execution_count": 3,
   "id": "d2f7c6e7",
   "metadata": {},
   "outputs": [],
   "source": [
    "soup=bs(r.content)"
   ]
  },
  {
   "cell_type": "code",
   "execution_count": 4,
   "id": "d2893d1b",
   "metadata": {},
   "outputs": [],
   "source": [
    "div=soup.find('div',attrs={'class':'lister list detail sub-list'})"
   ]
  },
  {
   "cell_type": "code",
   "execution_count": 5,
   "id": "9e92626e",
   "metadata": {},
   "outputs": [],
   "source": [
    "div1=div.find_all('div',attrs={'class':'lister-item-content'})"
   ]
  },
  {
   "cell_type": "code",
   "execution_count": 6,
   "id": "570b7556",
   "metadata": {},
   "outputs": [],
   "source": [
    "data=[]\n",
    "for i in range(0,len(div1)):\n",
    "    l=[]\n",
    "    l.append(div1[i].a.string)\n",
    "    l.append(div1[i].find('div', attrs={'class':'inline-block ratings-imdb-rating'}).attrs['data-value'])\n",
    "    l.append(div1[0].find('div', attrs={'class':'inline-block ratings-imdb-rating'}).strong.string)\n",
    "    data.append(l)\n",
    "    pass"
   ]
  },
  {
   "cell_type": "code",
   "execution_count": 8,
   "id": "835379f1",
   "metadata": {},
   "outputs": [],
   "source": [
    "r1=requests.get('https://www.imdb.com/search/title/?groups=top_250&sort=user_rating,desc&start=51&ref_=adv_nxt')"
   ]
  },
  {
   "cell_type": "code",
   "execution_count": 14,
   "id": "b1cdf16b",
   "metadata": {},
   "outputs": [],
   "source": [
    "soup1=bs(r1.content)"
   ]
  },
  {
   "cell_type": "code",
   "execution_count": 10,
   "id": "12bb5a81",
   "metadata": {},
   "outputs": [],
   "source": [
    "div2=soup1.find('div',attrs={'class':'lister list detail sub-list'})"
   ]
  },
  {
   "cell_type": "code",
   "execution_count": 11,
   "id": "2f21b21e",
   "metadata": {},
   "outputs": [],
   "source": [
    "div3=div2.find_all('div',attrs={'class':'lister-item-content'})"
   ]
  },
  {
   "cell_type": "code",
   "execution_count": 12,
   "id": "3811610b",
   "metadata": {},
   "outputs": [],
   "source": [
    "for i in range(0,len(div1)):\n",
    "    l=[]\n",
    "    l.append(div3[i].a.string)\n",
    "    l.append(div3[i].find('div', attrs={'class':'inline-block ratings-imdb-rating'}).attrs['data-value'])\n",
    "    l.append(div3[0].find('div', attrs={'class':'inline-block ratings-imdb-rating'}).strong.string)\n",
    "    data.append(l)\n",
    "    pass"
   ]
  },
  {
   "cell_type": "code",
   "execution_count": 15,
   "id": "2d15c52c",
   "metadata": {},
   "outputs": [],
   "source": [
    "r2=requests.get('https://www.imdb.com/search/title/?groups=top_250&sort=user_rating,desc&start=101&ref_=adv_nxt')"
   ]
  },
  {
   "cell_type": "code",
   "execution_count": 16,
   "id": "2cb2b58f",
   "metadata": {},
   "outputs": [],
   "source": [
    "soup2=bs(r2.content)"
   ]
  },
  {
   "cell_type": "code",
   "execution_count": 17,
   "id": "e151609c",
   "metadata": {},
   "outputs": [],
   "source": [
    "div4=soup2.find('div',attrs={'class':'lister list detail sub-list'})"
   ]
  },
  {
   "cell_type": "code",
   "execution_count": 18,
   "id": "502505cd",
   "metadata": {},
   "outputs": [],
   "source": [
    "div5=div4.find_all('div',attrs={'class':'lister-item-content'})"
   ]
  },
  {
   "cell_type": "code",
   "execution_count": 19,
   "id": "d1ebd503",
   "metadata": {},
   "outputs": [],
   "source": [
    "for i in range(0,len(div1)):\n",
    "    l=[]\n",
    "    l.append(div3[i].a.string)\n",
    "    l.append(div3[i].find('div', attrs={'class':'inline-block ratings-imdb-rating'}).attrs['data-value'])\n",
    "    l.append(div3[0].find('div', attrs={'class':'inline-block ratings-imdb-rating'}).strong.string)\n",
    "    data.append(l)\n",
    "    pass"
   ]
  },
  {
   "cell_type": "code",
   "execution_count": 24,
   "id": "44865ba2",
   "metadata": {},
   "outputs": [],
   "source": [
    "r3=requests.get('https://www.imdb.com/search/title/?groups=top_250&sort=user_rating,desc&start=151&ref_=adv_nxt')"
   ]
  },
  {
   "cell_type": "code",
   "execution_count": 25,
   "id": "96892861",
   "metadata": {},
   "outputs": [],
   "source": [
    "soup3=bs(r3.content)"
   ]
  },
  {
   "cell_type": "code",
   "execution_count": 26,
   "id": "35ca14a2",
   "metadata": {},
   "outputs": [],
   "source": [
    "div6=soup3.find('div',attrs={'class':'lister list detail sub-list'})"
   ]
  },
  {
   "cell_type": "code",
   "execution_count": 27,
   "id": "030546c4",
   "metadata": {},
   "outputs": [],
   "source": [
    "div7=div6.find_all('div',attrs={'class':'lister-item-content'})"
   ]
  },
  {
   "cell_type": "code",
   "execution_count": 28,
   "id": "1a87f4d4",
   "metadata": {},
   "outputs": [],
   "source": [
    "for i in range(0,len(div1)):\n",
    "    l=[]\n",
    "    l.append(div3[i].a.string)\n",
    "    l.append(div3[i].find('div', attrs={'class':'inline-block ratings-imdb-rating'}).attrs['data-value'])\n",
    "    l.append(div3[0].find('div', attrs={'class':'inline-block ratings-imdb-rating'}).strong.string)\n",
    "    data.append(l)\n",
    "    pass"
   ]
  },
  {
   "cell_type": "code",
   "execution_count": 32,
   "id": "e2a3a7bb",
   "metadata": {},
   "outputs": [],
   "source": [
    "r4=requests.get('https://www.imdb.com/search/title/?groups=top_250&sort=user_rating,desc&start=201&ref_=adv_nxt')"
   ]
  },
  {
   "cell_type": "code",
   "execution_count": 33,
   "id": "9f3ecb31",
   "metadata": {},
   "outputs": [],
   "source": [
    "soup4=bs(r4.content)"
   ]
  },
  {
   "cell_type": "code",
   "execution_count": 34,
   "id": "be2fbcd7",
   "metadata": {},
   "outputs": [],
   "source": [
    "div8=soup4.find('div',attrs={'class':'lister list detail sub-list'})"
   ]
  },
  {
   "cell_type": "code",
   "execution_count": 35,
   "id": "554dc708",
   "metadata": {},
   "outputs": [],
   "source": [
    "div9=div8.find_all('div',attrs={'class':'lister-item-content'})"
   ]
  },
  {
   "cell_type": "code",
   "execution_count": 36,
   "id": "da58a8dd",
   "metadata": {},
   "outputs": [],
   "source": [
    "for i in range(0,len(div1)):\n",
    "    l=[]\n",
    "    l.append(div3[i].a.string)\n",
    "    l.append(div3[i].find('div', attrs={'class':'inline-block ratings-imdb-rating'}).attrs['data-value'])\n",
    "    l.append(div3[0].find('div', attrs={'class':'inline-block ratings-imdb-rating'}).strong.string)\n",
    "    data.append(l)\n",
    "    pass"
   ]
  },
  {
   "cell_type": "code",
   "execution_count": 47,
   "id": "4fac58bc",
   "metadata": {},
   "outputs": [],
   "source": [
    "ds=pd.DataFrame(data)"
   ]
  },
  {
   "cell_type": "code",
   "execution_count": 50,
   "id": "3aedbf6d",
   "metadata": {},
   "outputs": [],
   "source": [
    "ds.rename(columns = {0:'Movie Name',1:'Rating',2:'Higest_rating'}, inplace = True)"
   ]
  },
  {
   "cell_type": "code",
   "execution_count": 51,
   "id": "90de3869",
   "metadata": {},
   "outputs": [
    {
     "data": {
      "text/html": [
       "<div>\n",
       "<style scoped>\n",
       "    .dataframe tbody tr th:only-of-type {\n",
       "        vertical-align: middle;\n",
       "    }\n",
       "\n",
       "    .dataframe tbody tr th {\n",
       "        vertical-align: top;\n",
       "    }\n",
       "\n",
       "    .dataframe thead th {\n",
       "        text-align: right;\n",
       "    }\n",
       "</style>\n",
       "<table border=\"1\" class=\"dataframe\">\n",
       "  <thead>\n",
       "    <tr style=\"text-align: right;\">\n",
       "      <th></th>\n",
       "      <th>Movie Name</th>\n",
       "      <th>Rating</th>\n",
       "      <th>Higest_rating</th>\n",
       "    </tr>\n",
       "  </thead>\n",
       "  <tbody>\n",
       "    <tr>\n",
       "      <th>0</th>\n",
       "      <td>Jai Bhim</td>\n",
       "      <td>9.3</td>\n",
       "      <td>9.3</td>\n",
       "    </tr>\n",
       "    <tr>\n",
       "      <th>1</th>\n",
       "      <td>The Shawshank Redemption</td>\n",
       "      <td>9.3</td>\n",
       "      <td>9.3</td>\n",
       "    </tr>\n",
       "    <tr>\n",
       "      <th>2</th>\n",
       "      <td>The Godfather</td>\n",
       "      <td>9.2</td>\n",
       "      <td>9.3</td>\n",
       "    </tr>\n",
       "    <tr>\n",
       "      <th>3</th>\n",
       "      <td>The Dark Knight</td>\n",
       "      <td>9</td>\n",
       "      <td>9.3</td>\n",
       "    </tr>\n",
       "    <tr>\n",
       "      <th>4</th>\n",
       "      <td>The Godfather: Part II</td>\n",
       "      <td>9</td>\n",
       "      <td>9.3</td>\n",
       "    </tr>\n",
       "    <tr>\n",
       "      <th>...</th>\n",
       "      <td>...</td>\n",
       "      <td>...</td>\n",
       "      <td>...</td>\n",
       "    </tr>\n",
       "    <tr>\n",
       "      <th>245</th>\n",
       "      <td>Bacheha-Ye aseman</td>\n",
       "      <td>8.3</td>\n",
       "      <td>8.5</td>\n",
       "    </tr>\n",
       "    <tr>\n",
       "      <th>246</th>\n",
       "      <td>Toy Story</td>\n",
       "      <td>8.3</td>\n",
       "      <td>8.5</td>\n",
       "    </tr>\n",
       "    <tr>\n",
       "      <th>247</th>\n",
       "      <td>Braveheart</td>\n",
       "      <td>8.3</td>\n",
       "      <td>8.5</td>\n",
       "    </tr>\n",
       "    <tr>\n",
       "      <th>248</th>\n",
       "      <td>Reservoir Dogs</td>\n",
       "      <td>8.3</td>\n",
       "      <td>8.5</td>\n",
       "    </tr>\n",
       "    <tr>\n",
       "      <th>249</th>\n",
       "      <td>Full Metal Jacket</td>\n",
       "      <td>8.3</td>\n",
       "      <td>8.5</td>\n",
       "    </tr>\n",
       "  </tbody>\n",
       "</table>\n",
       "<p>250 rows × 3 columns</p>\n",
       "</div>"
      ],
      "text/plain": [
       "                   Movie Name Rating Higest_rating\n",
       "0                    Jai Bhim    9.3           9.3\n",
       "1    The Shawshank Redemption    9.3           9.3\n",
       "2               The Godfather    9.2           9.3\n",
       "3             The Dark Knight      9           9.3\n",
       "4      The Godfather: Part II      9           9.3\n",
       "..                        ...    ...           ...\n",
       "245         Bacheha-Ye aseman    8.3           8.5\n",
       "246                 Toy Story    8.3           8.5\n",
       "247                Braveheart    8.3           8.5\n",
       "248            Reservoir Dogs    8.3           8.5\n",
       "249         Full Metal Jacket    8.3           8.5\n",
       "\n",
       "[250 rows x 3 columns]"
      ]
     },
     "execution_count": 51,
     "metadata": {},
     "output_type": "execute_result"
    }
   ],
   "source": [
    "ds"
   ]
  },
  {
   "cell_type": "code",
   "execution_count": 53,
   "id": "3955b2d2",
   "metadata": {},
   "outputs": [],
   "source": [
    "ds.to_csv('scrape.csv')"
   ]
  },
  {
   "cell_type": "code",
   "execution_count": null,
   "id": "4c13b279",
   "metadata": {},
   "outputs": [],
   "source": []
  }
 ],
 "metadata": {
  "kernelspec": {
   "display_name": "Python 3 (ipykernel)",
   "language": "python",
   "name": "python3"
  },
  "language_info": {
   "codemirror_mode": {
    "name": "ipython",
    "version": 3
   },
   "file_extension": ".py",
   "mimetype": "text/x-python",
   "name": "python",
   "nbconvert_exporter": "python",
   "pygments_lexer": "ipython3",
   "version": "3.9.7"
  }
 },
 "nbformat": 4,
 "nbformat_minor": 5
}
